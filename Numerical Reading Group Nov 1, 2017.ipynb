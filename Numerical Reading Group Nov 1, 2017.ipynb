{
 "cells": [
  {
   "cell_type": "code",
   "execution_count": null,
   "metadata": {
    "collapsed": false
   },
   "outputs": [],
   "source": [
    "using Combinatorics\n",
    "using IterativeSolvers  # for LSQR\n",
    "const IntMat = SparseMatrixCSC{Float64,Int64}\n",
    "const FloatMat = SparseMatrixCSC{Float64,Int64}"
   ]
  },
  {
   "cell_type": "code",
   "execution_count": null,
   "metadata": {
    "collapsed": false
   },
   "outputs": [],
   "source": [
    "# function to read .paj files (THANKS BRAD NELSON for writing this!)\n",
    "function read_paj_sparse(fname::AbstractString)\n",
    "    n = 0\n",
    "    local A, I, J, V\n",
    "    local labels\n",
    "    open(fname) do f\n",
    "        # get number of vertices                                                                                                                                                     \n",
    "        while true\n",
    "            line = readline(f)\n",
    "            if length(line) > 8 && line[1:9] == \"*vertices\"\n",
    "                n = parse(Int64, line[10:end])\n",
    "                break\n",
    "            end\n",
    "        end\n",
    "\n",
    "        # get labels                                                                                                                                                                 \n",
    "        labels = Array{String}(n)\n",
    "        while true\n",
    "            line = readline(f)\n",
    "            if length(line) >=9 && line[1:9] == \"*vertices\"; break; end\n",
    "        end\n",
    "        for i = 1:n\n",
    "            line = readline(f)\n",
    "            labels[i] = line[7:end-1]\n",
    "        end\n",
    "\n",
    "        # get edges                                                                                                                                                                  \n",
    "        I, J, V = Array{Int64}(0), Array{Int64}(0), Array{Float64}(0)\n",
    "        while true\n",
    "            line = readline(f)\n",
    "            if length(line) > 4 && line[1:5] == \"*arcs\"; break; end\n",
    "        end\n",
    "        while true\n",
    "            line = readline(f)\n",
    "            if length(line) < 2; break; end\n",
    "            (is, js, vs) = split(line)\n",
    "            push!(I, parse(Int64, is))\n",
    "            push!(J, parse(Int64, js))\n",
    "            push!(V, parse(Float64, vs))\n",
    "        end\n",
    "    end\n",
    "    A = convert(FloatMat, sparse(I, J, V, n, n))\n",
    "    return (A, labels)\n",
    "end"
   ]
  },
  {
   "cell_type": "code",
   "execution_count": null,
   "metadata": {
    "collapsed": false
   },
   "outputs": [],
   "source": [
    "# gradient matrix from graph adjacency matrix\n",
    "# returns gradient matrix and map of edges to indices 1, 2, ..., #edges\n",
    "function grad_mat(A::FloatMat)\n",
    "    edge_map = Dict{NTuple{2, Int64}, Int64}()\n",
    "    I, J, V = Int64[], Int64[], Int64[]\n",
    "    curr_edge_ind = 1\n",
    "    num_vertices = size(A, 2)\n",
    "    for j in 1:num_vertices, i in find(A[:,j])\n",
    "        # Force alternating function by ordering edges\n",
    "        if i < j\n",
    "            edge_map[(i, j)] = curr_edge_ind\n",
    "            push!(I, curr_edge_ind, curr_edge_ind)\n",
    "            push!(J, i, j)\n",
    "            push!(V, -1, 1)\n",
    "            curr_edge_ind += 1\n",
    "        end\n",
    "    end\n",
    "    grad = convert(FloatMat, sparse(I, J, V, length(edge_map), num_vertices))\n",
    "    return (grad, edge_map)\n",
    "end"
   ]
  },
  {
   "cell_type": "code",
   "execution_count": null,
   "metadata": {
    "collapsed": false
   },
   "outputs": [],
   "source": [
    "# curl matrix from graph adjacency matrix\n",
    "# edge_map takes (i, j) --> index 1, 2, ..., #edges\n",
    "function curl_mat(A::FloatMat, edge_map::Dict{NTuple{2, Int64}, Int64})\n",
    "    num_vertices = size(A, 2)\n",
    "    # ordering of nodes by degree\n",
    "    deg_order = zeros(Int64, num_vertices)\n",
    "    deg_order[sortperm(vec(sum(spones(A), 1)))] = collect(1:num_vertices)\n",
    "    tri_map = Dict{NTuple{3, Int64}, Int64}()\n",
    "    curr_tri_ind = 1\n",
    "    I, J, V = Int64[], Int64[], Int64[]\n",
    "    for i in 1:num_vertices\n",
    "        pos = deg_order[i]\n",
    "        # Keep neighbors with larger degree\n",
    "        neighbors = filter(v -> deg_order[v] > pos, find(A[:, i]))\n",
    "        for (j, k) in combinations(neighbors, 2)\n",
    "            if A[j, k] > 0.0\n",
    "                # triangle {i, j, k}\n",
    "                a, b, c = sort([i, j, k])\n",
    "                tri_map[(a, b, c)] = curr_tri_ind\n",
    "                push!(I, curr_tri_ind, curr_tri_ind, curr_tri_ind)\n",
    "                push!(J, edge_map[(a, b)], edge_map[(a, c)], edge_map[(b, c)])\n",
    "                push!(V, 1, -1, 1)\n",
    "                curr_tri_ind += 1\n",
    "            end\n",
    "        end\n",
    "    end\n",
    "    curl = convert(FloatMat, sparse(I, J, V, length(tri_map), length(edge_map)))\n",
    "    return (curl, tri_map)\n",
    "end"
   ]
  },
  {
   "cell_type": "code",
   "execution_count": null,
   "metadata": {
    "collapsed": false
   },
   "outputs": [],
   "source": [
    "# Hodge decomposition for an edge flow on a graph\n",
    "# returns node potential f, curl component Φ, and Harmonic component X_H\n",
    "# such that X = gradf + X_H + curl'Φ\n",
    "function hodge_decomp(X::Vector{Float64}, grad::FloatMat, curl::FloatMat)\n",
    "    assert(size(grad, 1) == length(X) == size(curl, 2))\n",
    "    f = lsqr(grad, X, atol=1e-10, btol=1e-10, conlim=1e12)\n",
    "    Φ = lsqr(curl', X, atol=1e-10, btol=1e-10, conlim=1e12)\n",
    "    X_H = X - curl' * Φ - grad * f\n",
    "    return (f, Φ, X_H)\n",
    "end"
   ]
  },
  {
   "cell_type": "code",
   "execution_count": null,
   "metadata": {
    "collapsed": false
   },
   "outputs": [],
   "source": [
    "# read data\n",
    "@time A, labels = read_paj_sparse(\"Florida.paj\")\n",
    "\n",
    "# form gradient and curl matrices\n",
    "Asym = max.(A, A') # symmetrize A to be undirected graph\n",
    "@time (grad, edge_map) = grad_mat(Asym)\n",
    "@time (curl, tri_map) = curl_mat(Asym, edge_map)\n",
    "\n",
    "# santiy check: make sure A * B = 0\n",
    "curlgrad = curl * grad\n",
    "println(\"min(curl grad) = $(minimum(curlgrad)), max(curl grad) = $(maximum(curlgrad))\")"
   ]
  },
  {
   "cell_type": "code",
   "execution_count": null,
   "metadata": {
    "collapsed": false
   },
   "outputs": [],
   "source": [
    "# form an edge from uppper triangular part of matrix and ordering of edges\n",
    "function edge_flow(T::FloatMat, edge_map::Dict{NTuple{2, Int64}, Int64})\n",
    "    X = zeros(length(edge_map))\n",
    "    B = triu(T, 1)\n",
    "    for j in 1:size(B, 2), i in find(B[:,j])\n",
    "        X[edge_map[(i, j)]] = B[i, j]\n",
    "    end\n",
    "    return X\n",
    "end\n",
    "@time X = edge_flow(A - A', edge_map) # takes asymmetry into account\n",
    "\n",
    "# decompose edge flow \n",
    "@time (f, Φ, X_H) = hodge_decomp(X, grad, curl)\n",
    "\n",
    "# sanity check: are our components orthogonal?\n",
    "x1 = grad * f\n",
    "x2 = curl' * Φ\n",
    "@show x1' * x2, x1' * X_H, x2' * X_H"
   ]
  },
  {
   "cell_type": "code",
   "execution_count": null,
   "metadata": {
    "collapsed": false
   },
   "outputs": [],
   "source": [
    "# get potential function ranking\n",
    "ranking = labels[sortperm(f), rev=true]\n",
    "@show ranking[1:5]\n",
    "@show ranking[end-4:end]\n",
    "\n",
    "# how much of norm due to gradient potential?\n",
    "frac_potential = norm(grad * f, 2)^2 / norm(X, 2)^2\n",
    "@show frac_potential"
   ]
  },
  {
   "cell_type": "code",
   "execution_count": null,
   "metadata": {
    "collapsed": false
   },
   "outputs": [],
   "source": [
    "# only consider sign of edge\n",
    "X = edge_flow(sign.(A - A'), edge_map)\n",
    "@time (f, Φ, X_H) = hodge_decomp(X, grad, curl)\n",
    "# get potential function ranking\n",
    "ranking = labels[sortperm(f, rev=true)]\n",
    "\n",
    "# get potential function ranking\n",
    "ranking = labels[sortperm(f)]\n",
    "@show ranking[1:5]\n",
    "@show ranking[end-4:end]\n",
    "frac_potential = norm(grad * f, 2)^2 / norm(X, 2)^2\n",
    "@show frac_potential"
   ]
  },
  {
   "cell_type": "code",
   "execution_count": null,
   "metadata": {
    "collapsed": false
   },
   "outputs": [],
   "source": [
    "# only consider asymmetric flows\n",
    "A1 = spones(A)\n",
    "B = A1 .* A1' # bi-directional flows\n",
    "U = A1 - B\n",
    "\n",
    "X = edge_flow(sign.(U - U'), edge_map)\n",
    "@time (f, Φ, X_H) = hodge_decomp(X, grad, curl)\n",
    "\n",
    "# get potential function ranking\n",
    "ranking = labels[sortperm(f, rev=true)]\n",
    "@show ranking[1:5]\n",
    "@show ranking[end-4:end]\n",
    "frac_potential = norm(grad * f, 2)^2 / norm(X, 2)^2\n",
    "@show frac_potential"
   ]
  },
  {
   "cell_type": "code",
   "execution_count": null,
   "metadata": {
    "collapsed": false
   },
   "outputs": [],
   "source": [
    "# find inconsistent triangles\n",
    "ordered_tris = sort(collect(keys(tri_map)), by=(k -> Φ[tri_map[k]]), rev=true)\n",
    "for i = 1:5\n",
    "    @show labels[[ordered_tris[i]...]]\n",
    "end"
   ]
  },
  {
   "cell_type": "code",
   "execution_count": null,
   "metadata": {
    "collapsed": false
   },
   "outputs": [],
   "source": [
    "pf = find(labels .== \"Parrotfish\")[1]\n",
    "@show labels[find(A[:,pf])]\n",
    "@show labels[find(A[pf,:])]"
   ]
  },
  {
   "cell_type": "code",
   "execution_count": null,
   "metadata": {
    "collapsed": false
   },
   "outputs": [],
   "source": [
    "A, labels = read_paj_sparse(\"Michigan.paj\")\n",
    "Asym = max.(A, A') # symmetrize A to be undirected graph\n",
    "@time (grad, edge_map) = grad_mat(Asym)\n",
    "@time (curl, tri_map) = curl_mat(Asym, edge_map)\n",
    "# only consider asymmetric flows\n",
    "A1 = spones(A)\n",
    "B = A1 .* A1' # bi-directional flows\n",
    "U = A1 - B\n",
    "\n",
    "X = edge_flow(sign.(U - U'), edge_map)\n",
    "@time (f, Φ, X_H) = hodge_decomp(X, grad, curl)\n",
    "\n",
    "# get potential function ranking\n",
    "ranking = labels[sortperm(f, rev=true)]\n",
    "@show ranking[1:5]\n",
    "@show ranking[end-4:end]\n",
    "frac_potential = norm(grad * f, 2)^2 / norm(X, 2)^2\n",
    "@show frac_potential"
   ]
  },
  {
   "cell_type": "code",
   "execution_count": null,
   "metadata": {
    "collapsed": true
   },
   "outputs": [],
   "source": []
  }
 ],
 "metadata": {
  "kernelspec": {
   "display_name": "Julia 0.6.1-pre",
   "language": "julia",
   "name": "julia-0.6"
  },
  "language_info": {
   "file_extension": ".jl",
   "mimetype": "application/julia",
   "name": "julia",
   "version": "0.6.1"
  }
 },
 "nbformat": 4,
 "nbformat_minor": 0
}
